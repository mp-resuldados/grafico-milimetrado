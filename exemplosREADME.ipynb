{
 "cells": [
  {
   "cell_type": "code",
   "execution_count": 95,
   "id": "119db27c-958f-47d6-a579-fb1eeebf4dbd",
   "metadata": {
    "tags": []
   },
   "outputs": [],
   "source": [
    "import numpy as np\n",
    "import pandas as pd\n",
    "from decimal import Decimal\n",
    "from sklearn.linear_model import LinearRegression\n",
    "import matplotlib.pyplot as plt\n",
    "from matplotlib.ticker import AutoMinorLocator, FixedLocator"
   ]
  },
  {
   "cell_type": "markdown",
   "id": "7e345382-e556-4356-ab21-bce9a77c1419",
   "metadata": {},
   "source": [
    "# Construção de um gráfico em papel milimetrado"
   ]
  },
  {
   "cell_type": "markdown",
   "id": "d8056cc3-558a-4ce0-9184-a3ad44160eff",
   "metadata": {},
   "source": [
    "## Criando conjuntos de dados de exemplo"
   ]
  },
  {
   "cell_type": "code",
   "execution_count": 295,
   "id": "6125d0ba-c591-4146-93f9-5e18061be9b4",
   "metadata": {
    "tags": []
   },
   "outputs": [],
   "source": [
    "dados1 = pd.DataFrame()\n",
    "dados2 = pd.DataFrame()\n",
    "dados3 = pd.DataFrame()"
   ]
  },
  {
   "cell_type": "code",
   "execution_count": 296,
   "id": "997db188-ebf0-49c5-8643-8ec5dab71b63",
   "metadata": {
    "tags": []
   },
   "outputs": [],
   "source": [
    "# fisexp 2 - densidade\n",
    "dados1['x'] = np.array(range(260,314,6)) # massa em g\n",
    "dados1['y'] = np.array([156, 162, 168, 174, 180, 186, 192, 198, 204])  # volume em ml\n",
    "dados1['erro']  = np.array(np.ones(9))\n",
    "\n",
    "# fisexp 2 - período do pêndulo\n",
    "dados2['x'] = np.array([149.5, 137.5, 126.5, 113.5, 100.5]) # L em cm\n",
    "dados2['y'] = np.array([2427, 2330, 2251, 2106, 1993]) # T em ms\n",
    "dados2['erro']  = np.array([4, 4, 6, 7, 5])\n",
    "\n",
    "# fisexp 2 - corda vibrante\n",
    "dados3['x'] = np.array([334, 167, 111, 84, 67, 56, 48])\n",
    "dados3['y'] = np.array([12, 24, 36, 48, 59, 72, 83])\n",
    "dados3['erro']  = np.array(2*np.ones(7))"
   ]
  },
  {
   "cell_type": "markdown",
   "id": "443c8c66-847e-4cf1-b18b-7590204636e2",
   "metadata": {},
   "source": [
    "## Função para retornar todos os parâmetros do cálculo de escala"
   ]
  },
  {
   "cell_type": "code",
   "execution_count": 288,
   "id": "ee22bae8-b2ea-466b-83a8-6783c948009b",
   "metadata": {
    "tags": []
   },
   "outputs": [],
   "source": [
    "def escala(h, v, dados):\n",
    "    dados.fillna(0,inplace=True)    \n",
    "    \n",
    "    # cálculo do delta    \n",
    "    delta_x = dados['x'].max()-dados['x'].min()\n",
    "    dados_y_max  = (dados['y']+dados['erro']).max()\n",
    "    dados_y_min = (dados['y']-dados['erro']).min()\n",
    "    delta_y = dados_y_max - dados_y_min\n",
    "    \n",
    "    #cálculo da escala natural\n",
    "    escala_nat_x = delta_x / h \n",
    "    escala_nat_y = delta_y / v \n",
    "    \n",
    "    # função auxiliar para o cálculo da escala boa\n",
    "    def fexp(number):\n",
    "        (sign, digits, exponent) = Decimal(number).as_tuple()\n",
    "        return len(digits) + exponent - 1\n",
    "\n",
    "    def fman(number):\n",
    "        return float(Decimal(number).scaleb(-fexp(number)).normalize())\n",
    "    \n",
    "    # cálculo da escala boa\n",
    "    def escala_boa(num):\n",
    "        exp = 10**fexp(num)\n",
    "        man = fman(num)\n",
    "        if man == 5 or man == 2 or man == 1:\n",
    "            return num\n",
    "        if man > 5:\n",
    "            return 10*exp\n",
    "        if man > 2:\n",
    "            return 5*exp\n",
    "        if man > 1:\n",
    "            return 2*exp\n",
    "        return exp\n",
    "    \n",
    "    escala_boa_x = escala_boa(escala_nat_x)\n",
    "    escala_boa_y = escala_boa(escala_nat_y)\n",
    "    \n",
    "    delta_bom_x = escala_boa_x*h\n",
    "    delta_bom_y = escala_boa_y*v\n",
    "    \n",
    "    # cálculo dos limites\n",
    "    limite_x = [ round(dados['x'].min()-(delta_bom_x-delta_x)/2, 10),\n",
    "    round(dados['x'].max()+(delta_bom_x-delta_x)/2, 10) ]\n",
    "    limite_y = [ round(dados_y_min -(delta_bom_y-delta_y)/2, 10),\n",
    "    round(dados_y_max +(delta_bom_y-delta_y)/2, 10) ]\n",
    "    \n",
    "    # cálculo dos limites bons\n",
    "    def limite_bom(esc, num):\n",
    "        esc_cm = 10*esc\n",
    "        return round(num / esc_cm) * esc_cm\n",
    "    v_limite_bom = np.vectorize(limite_bom)\n",
    "    \n",
    "    limite_bom_x = [ round(limite_bom(escala_boa_x, limite_x[1])-h*escala_boa_x, 10),\n",
    "                     round(limite_bom(escala_boa_x, limite_x[1]), 10) ]\n",
    "                   \n",
    "    limite_bom_y = [ round(limite_bom(escala_boa_y, limite_y[1])-v*escala_boa_y, 10),\n",
    "                     round(limite_bom(escala_boa_y, limite_y[1]), 10) ]\n",
    "    \n",
    "    # cálculo das divisões\n",
    "    div_x = [ round(limite_bom_x[0] + escala_boa_x*10*i,10) for i in range(0,int(h/10+1)) ]\n",
    "    div_y = [ round(limite_bom_y[0] + escala_boa_y*10*i,10) for i in range(0,int(v/10+1)) ]\n",
    "    \n",
    "    # conversão para mm\n",
    "    dados_mm = pd.DataFrame()\n",
    "    dados_mm['x_mm'] = v_limite_bom(0.05, (dados['x'] - div_x[0]) / escala_boa_x)\n",
    "    dados_mm['y_mm'] = v_limite_bom(0.05, (dados['y'] - div_y[0]) / escala_boa_y)\n",
    "    dados_mm['erro_mm']  = v_limite_bom(0.05, dados['erro'] / escala_boa_y) # tamanho da incerteza\n",
    "    \n",
    "    return (delta_x, delta_y,\n",
    "            escala_nat_x, escala_nat_y,\n",
    "            escala_boa_x, escala_boa_y,\n",
    "            delta_bom_x, delta_bom_y,\n",
    "            limite_x, limite_y,\n",
    "            limite_bom_x, limite_bom_y,\n",
    "            div_x, div_y,\n",
    "            dados_mm\n",
    "           )\n",
    "    "
   ]
  },
  {
   "cell_type": "code",
   "execution_count": 289,
   "id": "d38f905f-ae7b-4899-b52a-295ae240bac2",
   "metadata": {
    "tags": []
   },
   "outputs": [],
   "source": [
    "(delta_x, delta_y,\n",
    " escala_nat_x, escala_nat_y,\n",
    " escala_boa_x, escala_boa_y,\n",
    " delta_bom_x, delta_bom_y,\n",
    " limite_x, limite_y,\n",
    " limite_bom_x, limite_bom_y,\n",
    " div_x, div_y,\n",
    " dados_mm) = escala(180, 280, dados2)"
   ]
  },
  {
   "cell_type": "markdown",
   "id": "511bbd1f-93a9-48a8-8467-330d71647f79",
   "metadata": {
    "tags": []
   },
   "source": [
    "## Salvando os resultados em um arquivo"
   ]
  },
  {
   "cell_type": "code",
   "execution_count": 290,
   "id": "23eb02a9-23e0-4101-90fb-bd032ba31596",
   "metadata": {
    "tags": []
   },
   "outputs": [
    {
     "data": {
      "text/plain": [
       "'utf-8'"
      ]
     },
     "execution_count": 290,
     "metadata": {},
     "output_type": "execute_result"
    }
   ],
   "source": [
    "import sys\n",
    "sys.getdefaultencoding()"
   ]
  },
  {
   "cell_type": "code",
   "execution_count": 291,
   "id": "e7a5bc9a-eee9-4956-a012-f60d4edebfd7",
   "metadata": {
    "tags": []
   },
   "outputs": [
    {
     "name": "stdout",
     "output_type": "stream",
     "text": [
      "\n",
      "________________________________________________\n",
      "Resultados eixo horizontal:\n",
      "\n",
      "Δ = 49.0\n",
      "\n",
      "escala natural = 0.2722222222\n",
      "\n",
      "escala = 0.5\n",
      "\n",
      "Δ' = 90.0\n",
      "\n",
      "limites = [80.0, 170.0]\n",
      "\n",
      "limites corrigidos = [80.0, 170.0]\n",
      "\n",
      "escala de leitura \n",
      "[80.0, 85.0, 90.0, 95.0, 100.0, 105.0, 110.0, 115.0, 120.0, 125.0, 130.0, 135.0, 140.0, 145.0, 150.0, 155.0, 160.0, 165.0, 170.0]\n",
      "\n",
      "________________________________________________\n",
      "Resultados eixo vertical:\n",
      "\n",
      "Δ = 443\n",
      "\n",
      "escala natural = 1.5821428571\n",
      "\n",
      "escala = 2\n",
      "\n",
      "Δ' = 560\n",
      "\n",
      "limites = [1929.5, 2489.5]\n",
      "\n",
      "limites corrigidos = [1920, 2480]\n",
      "\n",
      "escala de leitura \n",
      "[1920, 1940, 1960, 1980, 2000, 2020, 2040, 2060, 2080, 2100, 2120, 2140, 2160, 2180, 2200, 2220, 2240, 2260, 2280, 2300, 2320, 2340, 2360, 2380, 2400, 2420, 2440, 2460, 2480]\n",
      "\n",
      "________________________________________________\n",
      "Dados em divisões \n",
      "    x_mm   y_mm  erro_mm\n",
      "0  139.0  253.5      2.0\n",
      "1  115.0  205.0      2.0\n",
      "2   93.0  165.5      3.0\n",
      "3   67.0   93.0      3.5\n",
      "4   41.0   36.5      2.5           \n",
      "\n"
     ]
    }
   ],
   "source": [
    "arquivo = f'''\n",
    "________________________________________________\n",
    "Resultados eixo horizontal:\n",
    "\n",
    "\\u0394 = {round(delta_x,10)}\n",
    "\n",
    "escala natural = {round(escala_nat_x,10)}\n",
    "\n",
    "escala = {round(escala_boa_x,10)}\n",
    "\n",
    "\\u0394' = {round(delta_bom_x,10)}\n",
    "\n",
    "limites = {limite_x}\n",
    "\n",
    "limites corrigidos = {limite_bom_x}\n",
    "\n",
    "escala de leitura \n",
    "{div_x}\n",
    "\n",
    "________________________________________________\n",
    "Resultados eixo vertical:\n",
    "\n",
    "\\u0394 = {round(delta_y,10)}\n",
    "\n",
    "escala natural = {round(escala_nat_y,10)}\n",
    "\n",
    "escala = {round(escala_boa_y,10)}\n",
    "\n",
    "\\u0394' = {round(delta_bom_y,10)}\n",
    "\n",
    "limites = {limite_y}\n",
    "\n",
    "limites corrigidos = {limite_bom_y}\n",
    "\n",
    "escala de leitura \n",
    "{div_y}\n",
    "\n",
    "________________________________________________\n",
    "Dados em divisões \n",
    "{dados_mm}           \n",
    "'''\n",
    "print(arquivo)"
   ]
  },
  {
   "cell_type": "markdown",
   "id": "9593d40e-19a9-441c-a1c3-b8e9dd68415a",
   "metadata": {
    "tags": []
   },
   "source": [
    "## Gráfico"
   ]
  },
  {
   "cell_type": "code",
   "execution_count": 297,
   "id": "ff049025-9602-4682-8150-f0b6f504c176",
   "metadata": {
    "tags": []
   },
   "outputs": [],
   "source": [
    "def plot(h, v, dados):\n",
    "# cálculo da escala\n",
    "    (delta_x, delta_y,\n",
    "     escala_nat_x, escala_nat_y,\n",
    "     escala_boa_x, escala_boa_y,\n",
    "     delta_bom_x, delta_bom_y,\n",
    "     limite_x, limite_y,\n",
    "     limite_bom_x, limite_bom_y,\n",
    "     div_x, div_y,\n",
    "     dados_mm) = escala(h, v, dados)\n",
    "    \n",
    "# proporcionalização\n",
    "    ratio =(v/(np.array(div_y).max()-np.array(div_y).min()))/(h/(np.array(div_x).max()-np.array(div_x).min()))\n",
    "\n",
    "    fig, ax = plt.subplots(figsize=(8.3, 11.7)) # tamanho A4\n",
    "\n",
    "    ax.set_aspect(ratio)\n",
    "\n",
    "    ax.set_title('Papel milimetrado')\n",
    "    ax.set_xlabel('x')\n",
    "    ax.set_ylabel('y')\n",
    "    \n",
    "    ax.set_xlim(div_x[0],div_x[-1])\n",
    "    ax.set_ylim(div_y[0],div_y[-1])\n",
    "\n",
    "# grid lines\n",
    "    ax.grid(which = \"major\")\n",
    "    ax.grid(which = \"minor\", alpha = 0.2)\n",
    "    ax.set_axisbelow(True)\n",
    "\n",
    "    ax.tick_params(which = \"minor\", bottom = False, left = False)\n",
    "\n",
    "#  major grid do eixo horizontal\n",
    "    ax.xaxis.set_major_locator(FixedLocator(div_x))\n",
    "\n",
    "#  major grid do eixo vertical\n",
    "    ax.yaxis.set_major_locator(FixedLocator(div_y))\n",
    "\n",
    "#  minor grid dividindo o major grid em 10\n",
    "    ax.xaxis.set_minor_locator(AutoMinorLocator(10))\n",
    "    ax.yaxis.set_minor_locator(AutoMinorLocator(10))\n",
    "\n",
    "# plot\n",
    "    ax.errorbar(\n",
    "        dados['x'],\n",
    "        dados['y'],\n",
    "        yerr = dados['erro'],\n",
    "        marker='.',\n",
    "        linestyle='none',\n",
    "        color='green',\n",
    "        label='dados experimentais',\n",
    "        )\n",
    "\n"
   ]
  },
  {
   "cell_type": "code",
   "execution_count": 293,
   "id": "54a8bdf2-e58d-4ebc-b4d1-a3ee80ff861d",
   "metadata": {
    "tags": []
   },
   "outputs": [
    {
     "data": {
      "image/png": "[encoded data removed]",
      "text/plain": [
       "<Figure size 830x1170 with 1 Axes>"
      ]
     },
     "metadata": {},
     "output_type": "display_data"
    }
   ],
   "source": [
    "plot(180, 280, dados3)"
   ]
  },
  {
   "cell_type": "code",
   "execution_count": null,
   "id": "b45b9f26-22df-46f2-838a-16f6e9c18b12",
   "metadata": {},
   "outputs": [],
   "source": []
  },
  {
   "cell_type": "markdown",
   "id": "c8a0040b-9f38-4199-9df9-0f72e111f5e1",
   "metadata": {},
   "source": [
    "### Construção do paralelogramo para gráficos lineares"
   ]
  },
  {
   "cell_type": "code",
   "execution_count": null,
   "id": "d3e00a0e-4b69-4986-a11f-b597f2fec82e",
   "metadata": {
    "tags": []
   },
   "outputs": [],
   "source": [
    "modelo = LinearRegression().fit(x.reshape(-1, 1), y)\n",
    "a = modelo.coef_[0]\n",
    "b = modelo.intercept_\n",
    "a, b"
   ]
  },
  {
   "cell_type": "markdown",
   "id": "5d6da295-3cf0-466f-8eda-02afc35b8b22",
   "metadata": {},
   "source": [
    "Construção das retas paralelas"
   ]
  },
  {
   "cell_type": "code",
   "execution_count": null,
   "id": "d7a3de5c-cd2f-4767-b3c6-b499c83af45b",
   "metadata": {
    "tags": []
   },
   "outputs": [],
   "source": [
    "b1 = ( (y+y_err).max( )- a*x[list((y+y_err)).index((y+y_err).max( ))] )\n",
    "y1 = a*x + b1\n",
    "y1"
   ]
  },
  {
   "cell_type": "code",
   "execution_count": null,
   "id": "7c8cad97-1f64-4984-8ded-c0030717816b",
   "metadata": {
    "tags": []
   },
   "outputs": [],
   "source": [
    "b2 = ( (y-y_err).min( )- a*x[list((y-y_err)).index((y-y_err).min( ))] )\n",
    "y2 = a*x + b2\n",
    "y2"
   ]
  },
  {
   "cell_type": "markdown",
   "id": "2151839e-256d-4a17-9938-465ff765ecff",
   "metadata": {},
   "source": [
    "Cálculos dos coeficientes angulares e lineares máximo e mínimo"
   ]
  },
  {
   "cell_type": "code",
   "execution_count": null,
   "id": "edc72ad0-fa40-47f8-b686-cb619611e008",
   "metadata": {
    "tags": []
   },
   "outputs": [],
   "source": [
    "a_max = ( (a*x.max() + b1)-(a*x.min() + b2) )/ (x.max()-x.min())\n",
    "a_min = ( (a*x.max() + b2)-(a*x.min() + b1) )/ (x.max()-x.min())\n",
    "erro_a = round_it((a_max-a_min)/2,1)\n",
    "a_max,a_min, erro_a"
   ]
  },
  {
   "cell_type": "code",
   "execution_count": null,
   "id": "8f8449d5-69a7-4ab6-be89-d9fe6e353a1a",
   "metadata": {
    "tags": []
   },
   "outputs": [],
   "source": [
    "b_max = (a*x.max()+b1) - a*x.max()\n",
    "b_min = (a*x.max()+b2) - a*x.max()\n",
    "erro_b = round_it((b_max-b_min)/2,1)\n",
    "b_max,b_min, erro_b"
   ]
  },
  {
   "cell_type": "code",
   "execution_count": null,
   "id": "a7b93744-bff6-4ef0-8161-51348c8761f5",
   "metadata": {
    "tags": []
   },
   "outputs": [],
   "source": [
    "y_max = a_max*x+b_min\n",
    "y_min = a_min*x+b_max\n",
    "y_max, y_min"
   ]
  },
  {
   "cell_type": "code",
   "execution_count": null,
   "id": "f327d1a6-e4a7-492d-ae07-65907e923b4f",
   "metadata": {
    "tags": []
   },
   "outputs": [],
   "source": [
    "fig, ax = plt.subplots(figsize=(8.3, 11.7))\n",
    "\n",
    "\n",
    "# ax.set_aspect(1)\n",
    "\n",
    "\n",
    "ax.set_title('Papel milimetrado')\n",
    "ax.set_xlabel('x')\n",
    "ax.set_ylabel('y')\n",
    "\n",
    "ax.set_xlim(div_x[0],div_x[-1])\n",
    "ax.set_ylim(div_y[0],div_y[-1])\n",
    "\n",
    "# grid lines\n",
    "ax.grid(which = \"major\")\n",
    "ax.grid(which = \"minor\", alpha = 0.2)\n",
    "ax.set_axisbelow(True)\n",
    "\n",
    "ax.tick_params(which = \"minor\", bottom = False, left = False)\n",
    "\n",
    "#  major grid do eixo horizontal\n",
    "ax.xaxis.set_major_locator(FixedLocator(div_x))\n",
    "\n",
    "#  major grid do eixo vertical\n",
    "ax.yaxis.set_major_locator(FixedLocator(div_y))\n",
    "\n",
    "# Minor grid dividindo o major grid em 10\n",
    "ax.xaxis.set_minor_locator(AutoMinorLocator(10))\n",
    "ax.yaxis.set_minor_locator(AutoMinorLocator(10))\n",
    "\n",
    "# plot\n",
    "# pontos e barras de erro\n",
    "ax.errorbar(\n",
    "    x,\n",
    "    y,\n",
    "    yerr = y_err,\n",
    "    marker='o',\n",
    "    linestyle='none',\n",
    "    color='green',\n",
    "    label='dados experimentais',\n",
    ")\n",
    "# regressão linear\n",
    "ax.plot(\n",
    "    x,\n",
    "    a*x+b,\n",
    "    linestyle='-',\n",
    "    color='red',\n",
    "    label='ajuste linear',\n",
    ")\n",
    "# paralelogramo\n",
    "ax.plot(\n",
    "    x,\n",
    "    y1,\n",
    "    linestyle='--',\n",
    "    color='orange',\n",
    "    label='método do paralelogramo',\n",
    ")\n",
    "ax.plot(\n",
    "    x,\n",
    "    y2,\n",
    "    linestyle='--',\n",
    "    color='orange',\n",
    "\n",
    ")\n",
    "ax.plot(\n",
    "    x,\n",
    "    y_max,\n",
    "    linestyle=':',\n",
    "    color='orange',\n",
    ")\n",
    "ax.plot(\n",
    "    x,\n",
    "    y_min,\n",
    "    linestyle=':',\n",
    "    color='orange',\n",
    ")\n",
    "\n",
    "ax.legend(loc='upper left', ncols=1)"
   ]
  },
  {
   "cell_type": "code",
   "execution_count": null,
   "id": "63e7f876-a85b-4251-9de8-285419594a62",
   "metadata": {},
   "outputs": [],
   "source": []
  }
 ],
 "metadata": {
  "kernelspec": {
   "display_name": "Python 3 (ipykernel)",
   "language": "python",
   "name": "python3"
  },
  "language_info": {
   "codemirror_mode": {
    "name": "ipython",
    "version": 3
   },
   "file_extension": ".py",
   "mimetype": "text/x-python",
   "name": "python",
   "nbconvert_exporter": "python",
   "pygments_lexer": "ipython3",
   "version": "3.11.5"
  }
 },
 "nbformat": 4,
 "nbformat_minor": 5
}
